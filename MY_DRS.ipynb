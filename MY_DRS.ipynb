{
  "nbformat": 4,
  "nbformat_minor": 0,
  "metadata": {
    "colab": {
      "name": "MY_DRS",
      "provenance": [],
      "authorship_tag": "ABX9TyOcUXrSwa4qJR3xmwNa5ReO",
      "include_colab_link": true
    },
    "kernelspec": {
      "name": "python3",
      "display_name": "Python 3"
    },
    "language_info": {
      "name": "python"
    }
  },
  "cells": [
    {
      "cell_type": "markdown",
      "metadata": {
        "id": "view-in-github",
        "colab_type": "text"
      },
      "source": [
        "<a href=\"https://colab.research.google.com/github/vidhiiiG/projects/blob/main/MY_DRS.ipynb\" target=\"_parent\"><img src=\"https://colab.research.google.com/assets/colab-badge.svg\" alt=\"Open In Colab\"/></a>"
      ]
    },
    {
      "cell_type": "markdown",
      "source": [
        "IMPORTING THE NECESSARY LIBRARIES:"
      ],
      "metadata": {
        "id": "V6SsYUHdpJDP"
      }
    },
    {
      "cell_type": "code",
      "execution_count": null,
      "metadata": {
        "id": "pDEaO4uRuFk8"
      },
      "outputs": [],
      "source": [
        "import tkinter \n",
        "import cv2 # pip install opencv-python\n",
        "import PIL.Image, PIL.ImageTk # pip install pillow\n",
        "from functools import partial\n",
        "import threading\n",
        "import time\n",
        "import imutils # pip install imutils\n"
      ]
    },
    {
      "cell_type": "code",
      "source": [
        "stream = cv2.VideoCapture(\"clip.mp4\")\n",
        "flag = True\n",
        "def play(speed):\n",
        "    global flag\n",
        "    print(f\"You clicked on play. Speed is {speed}\")\n",
        "    "
      ],
      "metadata": {
        "id": "B7sqK_s2vNZH"
      },
      "execution_count": null,
      "outputs": []
    },
    {
      "cell_type": "code",
      "source": [
        "# Play the video in reverse mode\n",
        "frame1 = stream.get(cv2.CAP_PROP_POS_FRAMES)\n",
        "stream.set(cv2.CAP_PROP_POS_FRAMES, frame1 + speed)\n"
      ],
      "metadata": {
        "id": "oxFtx13tn20z"
      },
      "execution_count": null,
      "outputs": []
    },
    {
      "cell_type": "code",
      "source": [
        " grabbed, frame = stream.read()\n",
        "    if not grabbed:\n",
        "        exit()\n",
        "    frame = imutils.resize(frame, width=SET_WIDTH, height=SET_HEIGHT)\n",
        "    frame = PIL.ImageTk.PhotoImage(image = PIL.Image.fromarray(frame))\n",
        "    canvas.image = frame\n",
        "    canvas.create_image(0,0, image=frame, anchor=tkinter.NW)\n",
        "    if flag:\n",
        "        canvas.create_text(134, 26, fill=\"black\", font=\"Times 26 bold\", text=\"Decision Pending\")\n",
        "    flag = not flag"
      ],
      "metadata": {
        "id": "NHOd_Sfpn26t"
      },
      "execution_count": null,
      "outputs": []
    },
    {
      "cell_type": "code",
      "source": [
        "def pending(decision):\n",
        "    # 1. Display decision pending image\n",
        "    frame = cv2.cvtColor(cv2.imread(\"pending.png\"), cv2.COLOR_BGR2RGB)\n",
        "    frame = imutils.resize(frame, width=SET_WIDTH, height=SET_HEIGHT)\n",
        "    frame = PIL.ImageTk.PhotoImage(image=PIL.Image.fromarray(frame))\n",
        "    canvas.image = frame\n",
        "    canvas.create_image(0,0, image=frame, anchor=tkinter.NW)\n",
        "    # 2. Wait for 1 second\n",
        "    time.sleep(1.5)"
      ],
      "metadata": {
        "id": "GSxdyaUwn2_F"
      },
      "execution_count": null,
      "outputs": []
    },
    {
      "cell_type": "code",
      "source": [
        "# 3. Display sponsor image\n",
        "    frame = cv2.cvtColor(cv2.imread(\"sponsor.png\"), cv2.COLOR_BGR2RGB)\n",
        "    frame = imutils.resize(frame, width=SET_WIDTH, height=SET_HEIGHT)\n",
        "    frame = PIL.ImageTk.PhotoImage(image=PIL.Image.fromarray(frame))\n",
        "    canvas.image = frame\n",
        "    canvas.create_image(0,0, image=frame, anchor=tkinter.NW)\n"
      ],
      "metadata": {
        "id": "LJO1Dc56n3D4"
      },
      "execution_count": null,
      "outputs": []
    },
    {
      "cell_type": "code",
      "source": [
        "# 4. Wait for 1.5 second\n",
        "    time.sleep(2.5)\n",
        "    # 5. Display out/notout image\n",
        "    if decision == 'out':\n",
        "        decisionImg = \"out.png\"\n",
        "    else:\n",
        "        decisionImg = \"not_out.png\"\n",
        "    frame = cv2.cvtColor(cv2.imread(decisionImg), cv2.COLOR_BGR2RGB)\n",
        "    frame = imutils.resize(frame, width=SET_WIDTH, height=SET_HEIGHT)\n",
        "    frame = PIL.ImageTk.PhotoImage(image=PIL.Image.fromarray(frame))\n",
        "    canvas.image = frame\n",
        "    canvas.create_image(0,0, image=frame, anchor=tkinter.NW)\n"
      ],
      "metadata": {
        "id": "BavYcrFeoOj_"
      },
      "execution_count": null,
      "outputs": []
    },
    {
      "cell_type": "code",
      "source": [
        "def out():\n",
        "    thread = threading.Thread(target=pending, args=(\"out\",))\n",
        "    thread.daemon = 1\n",
        "    thread.start()\n",
        "    print(\"Player is out\")\n"
      ],
      "metadata": {
        "id": "JnlUsi9xoexK"
      },
      "execution_count": null,
      "outputs": []
    },
    {
      "cell_type": "code",
      "source": [
        "def not_out():\n",
        "    thread = threading.Thread(target=pending, args=(\"not out\",))\n",
        "    thread.daemon = 1\n",
        "    thread.start()\n",
        "    print(\"Player is not out\")\n"
      ],
      "metadata": {
        "id": "GM-roFXRofCn"
      },
      "execution_count": null,
      "outputs": []
    },
    {
      "cell_type": "code",
      "source": [
        "# Width and height of our main screen\n",
        "SET_WIDTH = 650\n",
        "SET_HEIGHT = 368\n"
      ],
      "metadata": {
        "id": "-fyuaYieofLq"
      },
      "execution_count": null,
      "outputs": []
    },
    {
      "cell_type": "code",
      "source": [
        "# Tkinter gui starts here\n",
        "window = tkinter.Tk()\n",
        "window.title(\"CodeWithHarry Third Umpire Decision Review Kit\")\n",
        "cv_img = cv2.cvtColor(cv2.imread(\"welcome.png\"), cv2.COLOR_BGR2RGB)\n",
        "canvas = tkinter.Canvas(window, width=SET_WIDTH, height=SET_HEIGHT)\n",
        "photo = PIL.ImageTk.PhotoImage(image=PIL.Image.fromarray(cv_img))\n",
        "image_on_canvas = canvas.create_image(0, 0, ancho=tkinter.NW, image=photo)\n",
        "canvas.pack()\n"
      ],
      "metadata": {
        "id": "qUOdFLJyoOpp"
      },
      "execution_count": null,
      "outputs": []
    },
    {
      "cell_type": "code",
      "source": [
        "# Buttons to control playback\n",
        "btn = tkinter.Button(window, text=\"<< Previous (fast)\", width=50, command=partial(play, -25))\n",
        "btn.pack()\n",
        "\n",
        "btn = tkinter.Button(window, text=\"<< Previous (slow)\", width=50, command=partial(play, -2))\n",
        "btn.pack()\n",
        "\n",
        "btn = tkinter.Button(window, text=\"Next (slow) >>\", width=50, command=partial(play, 2))\n",
        "btn.pack()\n",
        "\n",
        "btn = tkinter.Button(window, text=\"Next (fast) >>\", width=50, command=partial(play, 25))\n",
        "btn.pack()\n",
        "\n",
        "btn = tkinter.Button(window, text=\"Give Out\", width=50, command=out)\n",
        "btn.pack()\n",
        "\n",
        "btn = tkinter.Button(window, text=\"Give Not Out\", width=50, command=not_out)\n",
        "btn.pack()\n",
        "window.mainloop()"
      ],
      "metadata": {
        "id": "xpdpjNp2o24q"
      },
      "execution_count": null,
      "outputs": []
    }
  ]
}